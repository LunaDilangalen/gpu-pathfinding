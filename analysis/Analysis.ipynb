{
 "cells": [
  {
   "cell_type": "code",
   "execution_count": 144,
   "metadata": {},
   "outputs": [],
   "source": [
    "import glob, os\n",
    "import pandas as pd\n",
    "from matplotlib import pyplot as plt"
   ]
  },
  {
   "cell_type": "code",
   "execution_count": 145,
   "metadata": {},
   "outputs": [
    {
     "data": {
      "text/html": [
       "<div>\n",
       "<style scoped>\n",
       "    .dataframe tbody tr th:only-of-type {\n",
       "        vertical-align: middle;\n",
       "    }\n",
       "\n",
       "    .dataframe tbody tr th {\n",
       "        vertical-align: top;\n",
       "    }\n",
       "\n",
       "    .dataframe thead th {\n",
       "        text-align: right;\n",
       "    }\n",
       "</style>\n",
       "<table border=\"1\" class=\"dataframe\">\n",
       "  <thead>\n",
       "    <tr style=\"text-align: right;\">\n",
       "      <th></th>\n",
       "      <th>image</th>\n",
       "      <th>grid_width</th>\n",
       "      <th>block_width</th>\n",
       "      <th>start</th>\n",
       "      <th>goal</th>\n",
       "      <th>cpu_runtime</th>\n",
       "      <th>gpu_runtime</th>\n",
       "      <th>cpu_path_length</th>\n",
       "      <th>gpu_path_length</th>\n",
       "      <th>cpu_path_exists</th>\n",
       "      <th>gpu_path_exists</th>\n",
       "    </tr>\n",
       "  </thead>\n",
       "  <tbody>\n",
       "    <tr>\n",
       "      <th>0</th>\n",
       "      <td>dataset/select-maps/simplest/orz704d.png</td>\n",
       "      <td>32</td>\n",
       "      <td>16</td>\n",
       "      <td>518</td>\n",
       "      <td>445</td>\n",
       "      <td>0.001048</td>\n",
       "      <td>0.013133</td>\n",
       "      <td>24</td>\n",
       "      <td>24</td>\n",
       "      <td>True</td>\n",
       "      <td>True</td>\n",
       "    </tr>\n",
       "    <tr>\n",
       "      <th>1</th>\n",
       "      <td>dataset/select-maps/simplest/arena.png</td>\n",
       "      <td>32</td>\n",
       "      <td>16</td>\n",
       "      <td>661</td>\n",
       "      <td>5</td>\n",
       "      <td>0.000849</td>\n",
       "      <td>0.011525</td>\n",
       "      <td>21</td>\n",
       "      <td>21</td>\n",
       "      <td>True</td>\n",
       "      <td>True</td>\n",
       "    </tr>\n",
       "    <tr>\n",
       "      <th>2</th>\n",
       "      <td>dataset/select-maps/simplest/orz704d.png</td>\n",
       "      <td>32</td>\n",
       "      <td>16</td>\n",
       "      <td>513</td>\n",
       "      <td>446</td>\n",
       "      <td>0.000963</td>\n",
       "      <td>0.012752</td>\n",
       "      <td>30</td>\n",
       "      <td>30</td>\n",
       "      <td>True</td>\n",
       "      <td>True</td>\n",
       "    </tr>\n",
       "    <tr>\n",
       "      <th>3</th>\n",
       "      <td>dataset/select-maps/simplest/arena.png</td>\n",
       "      <td>32</td>\n",
       "      <td>16</td>\n",
       "      <td>715</td>\n",
       "      <td>125</td>\n",
       "      <td>0.000900</td>\n",
       "      <td>0.012596</td>\n",
       "      <td>24</td>\n",
       "      <td>24</td>\n",
       "      <td>True</td>\n",
       "      <td>True</td>\n",
       "    </tr>\n",
       "    <tr>\n",
       "      <th>4</th>\n",
       "      <td>dataset/select-maps/simplest/combat2.png</td>\n",
       "      <td>32</td>\n",
       "      <td>16</td>\n",
       "      <td>1016</td>\n",
       "      <td>132</td>\n",
       "      <td>0.000966</td>\n",
       "      <td>0.010803</td>\n",
       "      <td>28</td>\n",
       "      <td>28</td>\n",
       "      <td>True</td>\n",
       "      <td>True</td>\n",
       "    </tr>\n",
       "    <tr>\n",
       "      <th>...</th>\n",
       "      <td>...</td>\n",
       "      <td>...</td>\n",
       "      <td>...</td>\n",
       "      <td>...</td>\n",
       "      <td>...</td>\n",
       "      <td>...</td>\n",
       "      <td>...</td>\n",
       "      <td>...</td>\n",
       "      <td>...</td>\n",
       "      <td>...</td>\n",
       "      <td>...</td>\n",
       "    </tr>\n",
       "    <tr>\n",
       "      <th>95</th>\n",
       "      <td>dataset/select-maps/simplest/combat.png</td>\n",
       "      <td>128</td>\n",
       "      <td>16</td>\n",
       "      <td>1170</td>\n",
       "      <td>4075</td>\n",
       "      <td>0.022684</td>\n",
       "      <td>0.026789</td>\n",
       "      <td>90</td>\n",
       "      <td>90</td>\n",
       "      <td>True</td>\n",
       "      <td>True</td>\n",
       "    </tr>\n",
       "    <tr>\n",
       "      <th>96</th>\n",
       "      <td>dataset/select-maps/simplest/lak307d.png</td>\n",
       "      <td>128</td>\n",
       "      <td>16</td>\n",
       "      <td>4709</td>\n",
       "      <td>9478</td>\n",
       "      <td>0.021180</td>\n",
       "      <td>0.026318</td>\n",
       "      <td>96</td>\n",
       "      <td>96</td>\n",
       "      <td>True</td>\n",
       "      <td>True</td>\n",
       "    </tr>\n",
       "    <tr>\n",
       "      <th>97</th>\n",
       "      <td>dataset/select-maps/simplest/ost004d.png</td>\n",
       "      <td>128</td>\n",
       "      <td>16</td>\n",
       "      <td>14112</td>\n",
       "      <td>2891</td>\n",
       "      <td>0.014542</td>\n",
       "      <td>0.020959</td>\n",
       "      <td>94</td>\n",
       "      <td>94</td>\n",
       "      <td>True</td>\n",
       "      <td>True</td>\n",
       "    </tr>\n",
       "    <tr>\n",
       "      <th>98</th>\n",
       "      <td>dataset/select-maps/simplest/arena.png</td>\n",
       "      <td>128</td>\n",
       "      <td>16</td>\n",
       "      <td>14147</td>\n",
       "      <td>831</td>\n",
       "      <td>0.015055</td>\n",
       "      <td>0.028489</td>\n",
       "      <td>105</td>\n",
       "      <td>105</td>\n",
       "      <td>True</td>\n",
       "      <td>True</td>\n",
       "    </tr>\n",
       "    <tr>\n",
       "      <th>99</th>\n",
       "      <td>dataset/select-maps/simplest/combat2.png</td>\n",
       "      <td>128</td>\n",
       "      <td>16</td>\n",
       "      <td>4359</td>\n",
       "      <td>2805</td>\n",
       "      <td>0.044535</td>\n",
       "      <td>0.028321</td>\n",
       "      <td>112</td>\n",
       "      <td>0</td>\n",
       "      <td>True</td>\n",
       "      <td>False</td>\n",
       "    </tr>\n",
       "  </tbody>\n",
       "</table>\n",
       "<p>2100 rows × 11 columns</p>\n",
       "</div>"
      ],
      "text/plain": [
       "                                       image  grid_width  block_width  start  \\\n",
       "0   dataset/select-maps/simplest/orz704d.png          32           16    518   \n",
       "1     dataset/select-maps/simplest/arena.png          32           16    661   \n",
       "2   dataset/select-maps/simplest/orz704d.png          32           16    513   \n",
       "3     dataset/select-maps/simplest/arena.png          32           16    715   \n",
       "4   dataset/select-maps/simplest/combat2.png          32           16   1016   \n",
       "..                                       ...         ...          ...    ...   \n",
       "95   dataset/select-maps/simplest/combat.png         128           16   1170   \n",
       "96  dataset/select-maps/simplest/lak307d.png         128           16   4709   \n",
       "97  dataset/select-maps/simplest/ost004d.png         128           16  14112   \n",
       "98    dataset/select-maps/simplest/arena.png         128           16  14147   \n",
       "99  dataset/select-maps/simplest/combat2.png         128           16   4359   \n",
       "\n",
       "    goal  cpu_runtime  gpu_runtime  cpu_path_length  gpu_path_length  \\\n",
       "0    445     0.001048     0.013133               24               24   \n",
       "1      5     0.000849     0.011525               21               21   \n",
       "2    446     0.000963     0.012752               30               30   \n",
       "3    125     0.000900     0.012596               24               24   \n",
       "4    132     0.000966     0.010803               28               28   \n",
       "..   ...          ...          ...              ...              ...   \n",
       "95  4075     0.022684     0.026789               90               90   \n",
       "96  9478     0.021180     0.026318               96               96   \n",
       "97  2891     0.014542     0.020959               94               94   \n",
       "98   831     0.015055     0.028489              105              105   \n",
       "99  2805     0.044535     0.028321              112                0   \n",
       "\n",
       "    cpu_path_exists  gpu_path_exists  \n",
       "0              True             True  \n",
       "1              True             True  \n",
       "2              True             True  \n",
       "3              True             True  \n",
       "4              True             True  \n",
       "..              ...              ...  \n",
       "95             True             True  \n",
       "96             True             True  \n",
       "97             True             True  \n",
       "98             True             True  \n",
       "99             True            False  \n",
       "\n",
       "[2100 rows x 11 columns]"
      ]
     },
     "execution_count": 145,
     "metadata": {},
     "output_type": "execute_result"
    }
   ],
   "source": [
    "# Read all CSVs into a single dataframe\n",
    "\n",
    "df = pd.concat(map(pd.read_csv, glob.glob(os.path.join('', \"result_data/*.csv\"))))\n",
    "df"
   ]
  },
  {
   "cell_type": "code",
   "execution_count": 146,
   "metadata": {},
   "outputs": [],
   "source": [
    "# Separate dataframe into new dataframes based on planning block size\n",
    "\n",
    "blocks4 = df[df.block_width == 4]\n",
    "blocks8 = df[df.block_width == 8]\n",
    "blocks16 = df[df.block_width == 16]"
   ]
  },
  {
   "cell_type": "code",
   "execution_count": 147,
   "metadata": {},
   "outputs": [],
   "source": [
    "# Get average runtime for all images where gpu path exists\n",
    "\n",
    "ave4 = blocks4[blocks4.gpu_path_exists == True].groupby('grid_width', as_index=False)[['cpu_runtime', 'gpu_runtime']].mean()\n",
    "ave8 = blocks8[blocks8.gpu_path_exists == True].groupby('grid_width', as_index=False)[['cpu_runtime', 'gpu_runtime']].mean()\n",
    "ave16 = blocks16[blocks16.gpu_path_exists == True].groupby('grid_width', as_index=False)[['cpu_runtime', 'gpu_runtime']].mean()"
   ]
  },
  {
   "cell_type": "code",
   "execution_count": 148,
   "metadata": {},
   "outputs": [
    {
     "data": {
      "image/png": "[encoded data removed]",
      "text/plain": [
       "<Figure size 432x288 with 1 Axes>"
      ]
     },
     "metadata": {
      "needs_background": "light"
     },
     "output_type": "display_data"
    }
   ],
   "source": [
    "plt.plot(ave4.grid_width.head().astype('str'), ave4.head().cpu_runtime)\n",
    "plt.plot(ave4.grid_width.head().astype('str'), ave4.head().gpu_runtime)\n",
    "plt.title('4 planning blocks')\n",
    "plt.xlabel('Grid size')\n",
    "plt.ylabel('Running time (s)')\n",
    "plt.legend(['CPU', 'GPU'])\n",
    "plt.show()"
   ]
  },
  {
   "cell_type": "code",
   "execution_count": 149,
   "metadata": {},
   "outputs": [
    {
     "data": {
      "image/png": "[encoded data removed]",
      "text/plain": [
       "<Figure size 432x288 with 1 Axes>"
      ]
     },
     "metadata": {
      "needs_background": "light"
     },
     "output_type": "display_data"
    }
   ],
   "source": [
    "plt.plot(ave8.grid_width.head().astype('str'), ave8.head().cpu_runtime)\n",
    "plt.plot(ave8.grid_width.head().astype('str'), ave8.head().gpu_runtime)\n",
    "plt.title('8 planning blocks')\n",
    "plt.xlabel('Grid size')\n",
    "plt.ylabel('Running time (s)')\n",
    "plt.legend(['CPU', 'GPU'])\n",
    "plt.show()"
   ]
  },
  {
   "cell_type": "code",
   "execution_count": 150,
   "metadata": {
    "scrolled": false
   },
   "outputs": [
    {
     "data": {
      "image/png": "[encoded data removed]",
      "text/plain": [
       "<Figure size 432x288 with 1 Axes>"
      ]
     },
     "metadata": {
      "needs_background": "light"
     },
     "output_type": "display_data"
    }
   ],
   "source": [
    "plt.plot(ave16.grid_width.head().astype('str'), ave16.head().cpu_runtime)\n",
    "plt.plot(ave16.grid_width.head().astype('str'), ave16.head().gpu_runtime)\n",
    "plt.title('16 planning blocks')\n",
    "plt.xlabel('Grid size')\n",
    "plt.ylabel('Running time (s)')\n",
    "plt.legend(['CPU', 'GPU'])\n",
    "plt.show()"
   ]
  },
  {
   "cell_type": "code",
   "execution_count": 180,
   "metadata": {},
   "outputs": [
    {
     "data": {
      "image/png": "[encoded data removed]",
      "text/plain": [
       "<Figure size 432x288 with 1 Axes>"
      ]
     },
     "metadata": {
      "needs_background": "light"
     },
     "output_type": "display_data"
    }
   ],
   "source": [
    "plt.plot(ave4.grid_width.head().astype('str'), ave4.head().cpu_runtime)\n",
    "plt.plot(ave4.grid_width.head().astype('str'), ave4.head().gpu_runtime)\n",
    "plt.plot(ave8.grid_width.head().astype('str'), ave8.head().gpu_runtime)\n",
    "plt.plot(ave16.grid_width.head().astype('str'), ave16.head().gpu_runtime)\n",
    "\n",
    "plt.title('Runtime Comparison')\n",
    "plt.xlabel('Grid size')\n",
    "plt.ylabel('Running time (s)')\n",
    "plt.legend(['CPU', 'GPU 4x4', 'GPU 8x8', 'GPU 16x16'])\n",
    "plt.show()"
   ]
  },
  {
   "cell_type": "code",
   "execution_count": 151,
   "metadata": {},
   "outputs": [
    {
     "data": {
      "image/png": "[encoded data removed]",
      "text/plain": [
       "<Figure size 432x288 with 1 Axes>"
      ]
     },
     "metadata": {
      "needs_background": "light"
     },
     "output_type": "display_data"
    }
   ],
   "source": [
    "# Get percentage of successful GPU runs\n",
    "\n",
    "success4 = blocks4.groupby('grid_width', as_index=False)[['gpu_path_exists']].sum()\n",
    "success8 = blocks8.groupby('grid_width', as_index=False)[['gpu_path_exists']].sum()\n",
    "success16 = blocks16.groupby('grid_width', as_index=False)[['gpu_path_exists']].sum()\n",
    "\n",
    "plt.bar(success4.grid_width.astype('str'), success4.gpu_path_exists)\n",
    "plt.title('4 planning blocks')\n",
    "plt.xlabel('Grid size')\n",
    "plt.ylabel('Paths found (%)')\n",
    "plt.show()"
   ]
  },
  {
   "cell_type": "code",
   "execution_count": 152,
   "metadata": {},
   "outputs": [
    {
     "data": {
      "image/png": "[encoded data removed]",
      "text/plain": [
       "<Figure size 432x288 with 1 Axes>"
      ]
     },
     "metadata": {
      "needs_background": "light"
     },
     "output_type": "display_data"
    }
   ],
   "source": [
    "plt.bar(success8.grid_width.astype('str'), success8.gpu_path_exists)\n",
    "plt.title('8 planning blocks')\n",
    "plt.xlabel('Grid size')\n",
    "plt.ylabel('Paths found (%)')\n",
    "plt.show()"
   ]
  },
  {
   "cell_type": "code",
   "execution_count": 153,
   "metadata": {
    "scrolled": true
   },
   "outputs": [
    {
     "data": {
      "image/png": "[encoded data removed]",
      "text/plain": [
       "<Figure size 432x288 with 1 Axes>"
      ]
     },
     "metadata": {
      "needs_background": "light"
     },
     "output_type": "display_data"
    }
   ],
   "source": [
    "plt.bar(success16.grid_width.astype('str'), success16.gpu_path_exists)\n",
    "plt.title('16 planning blocks')\n",
    "plt.xlabel('Grid size')\n",
    "plt.ylabel('Paths found (%)')\n",
    "plt.show()"
   ]
  },
  {
   "cell_type": "code",
   "execution_count": 167,
   "metadata": {},
   "outputs": [
    {
     "data": {
      "text/html": [
       "<div>\n",
       "<style scoped>\n",
       "    .dataframe tbody tr th:only-of-type {\n",
       "        vertical-align: middle;\n",
       "    }\n",
       "\n",
       "    .dataframe tbody tr th {\n",
       "        vertical-align: top;\n",
       "    }\n",
       "\n",
       "    .dataframe thead th {\n",
       "        text-align: right;\n",
       "    }\n",
       "</style>\n",
       "<table border=\"1\" class=\"dataframe\">\n",
       "  <thead>\n",
       "    <tr style=\"text-align: right;\">\n",
       "      <th></th>\n",
       "      <th>grid_width</th>\n",
       "      <th>gpu_path_exists_4</th>\n",
       "      <th>gpu_path_exists_8</th>\n",
       "    </tr>\n",
       "  </thead>\n",
       "  <tbody>\n",
       "    <tr>\n",
       "      <th>0</th>\n",
       "      <td>16</td>\n",
       "      <td>100</td>\n",
       "      <td>100</td>\n",
       "    </tr>\n",
       "    <tr>\n",
       "      <th>1</th>\n",
       "      <td>32</td>\n",
       "      <td>100</td>\n",
       "      <td>100</td>\n",
       "    </tr>\n",
       "    <tr>\n",
       "      <th>2</th>\n",
       "      <td>64</td>\n",
       "      <td>92</td>\n",
       "      <td>90</td>\n",
       "    </tr>\n",
       "    <tr>\n",
       "      <th>3</th>\n",
       "      <td>128</td>\n",
       "      <td>85</td>\n",
       "      <td>84</td>\n",
       "    </tr>\n",
       "    <tr>\n",
       "      <th>4</th>\n",
       "      <td>256</td>\n",
       "      <td>76</td>\n",
       "      <td>86</td>\n",
       "    </tr>\n",
       "    <tr>\n",
       "      <th>5</th>\n",
       "      <td>512</td>\n",
       "      <td>77</td>\n",
       "      <td>69</td>\n",
       "    </tr>\n",
       "    <tr>\n",
       "      <th>6</th>\n",
       "      <td>1024</td>\n",
       "      <td>71</td>\n",
       "      <td>67</td>\n",
       "    </tr>\n",
       "  </tbody>\n",
       "</table>\n",
       "</div>"
      ],
      "text/plain": [
       "   grid_width  gpu_path_exists_4  gpu_path_exists_8\n",
       "0          16                100                100\n",
       "1          32                100                100\n",
       "2          64                 92                 90\n",
       "3         128                 85                 84\n",
       "4         256                 76                 86\n",
       "5         512                 77                 69\n",
       "6        1024                 71                 67"
      ]
     },
     "execution_count": 167,
     "metadata": {},
     "output_type": "execute_result"
    }
   ],
   "source": [
    "combined = pd.merge(success4, success8, on='grid_width', how='outer', suffixes=('_4', '_8'))\n",
    "combined"
   ]
  },
  {
   "cell_type": "code",
   "execution_count": 168,
   "metadata": {
    "scrolled": true
   },
   "outputs": [
    {
     "data": {
      "text/html": [
       "<div>\n",
       "<style scoped>\n",
       "    .dataframe tbody tr th:only-of-type {\n",
       "        vertical-align: middle;\n",
       "    }\n",
       "\n",
       "    .dataframe tbody tr th {\n",
       "        vertical-align: top;\n",
       "    }\n",
       "\n",
       "    .dataframe thead th {\n",
       "        text-align: right;\n",
       "    }\n",
       "</style>\n",
       "<table border=\"1\" class=\"dataframe\">\n",
       "  <thead>\n",
       "    <tr style=\"text-align: right;\">\n",
       "      <th></th>\n",
       "      <th>grid_width</th>\n",
       "      <th>gpu_path_exists_4</th>\n",
       "      <th>gpu_path_exists_8</th>\n",
       "      <th>gpu_path_exists</th>\n",
       "    </tr>\n",
       "  </thead>\n",
       "  <tbody>\n",
       "    <tr>\n",
       "      <th>0</th>\n",
       "      <td>16</td>\n",
       "      <td>100</td>\n",
       "      <td>100</td>\n",
       "      <td>100</td>\n",
       "    </tr>\n",
       "    <tr>\n",
       "      <th>1</th>\n",
       "      <td>32</td>\n",
       "      <td>100</td>\n",
       "      <td>100</td>\n",
       "      <td>100</td>\n",
       "    </tr>\n",
       "    <tr>\n",
       "      <th>2</th>\n",
       "      <td>64</td>\n",
       "      <td>92</td>\n",
       "      <td>90</td>\n",
       "      <td>95</td>\n",
       "    </tr>\n",
       "    <tr>\n",
       "      <th>3</th>\n",
       "      <td>128</td>\n",
       "      <td>85</td>\n",
       "      <td>84</td>\n",
       "      <td>89</td>\n",
       "    </tr>\n",
       "    <tr>\n",
       "      <th>4</th>\n",
       "      <td>256</td>\n",
       "      <td>76</td>\n",
       "      <td>86</td>\n",
       "      <td>77</td>\n",
       "    </tr>\n",
       "    <tr>\n",
       "      <th>5</th>\n",
       "      <td>512</td>\n",
       "      <td>77</td>\n",
       "      <td>69</td>\n",
       "      <td>76</td>\n",
       "    </tr>\n",
       "    <tr>\n",
       "      <th>6</th>\n",
       "      <td>1024</td>\n",
       "      <td>71</td>\n",
       "      <td>67</td>\n",
       "      <td>62</td>\n",
       "    </tr>\n",
       "  </tbody>\n",
       "</table>\n",
       "</div>"
      ],
      "text/plain": [
       "   grid_width  gpu_path_exists_4  gpu_path_exists_8  gpu_path_exists\n",
       "0          16                100                100              100\n",
       "1          32                100                100              100\n",
       "2          64                 92                 90               95\n",
       "3         128                 85                 84               89\n",
       "4         256                 76                 86               77\n",
       "5         512                 77                 69               76\n",
       "6        1024                 71                 67               62"
      ]
     },
     "execution_count": 168,
     "metadata": {},
     "output_type": "execute_result"
    }
   ],
   "source": [
    "combined2 = pd.merge(combined, success16, on='grid_width', how='outer', suffixes=('_8', '_16'))\n",
    "combined2"
   ]
  },
  {
   "cell_type": "code",
   "execution_count": 181,
   "metadata": {
    "scrolled": true
   },
   "outputs": [
    {
     "data": {
      "image/png": "[encoded data removed]",
      "text/plain": [
       "<Figure size 432x288 with 1 Axes>"
      ]
     },
     "metadata": {
      "needs_background": "light"
     },
     "output_type": "display_data"
    }
   ],
   "source": [
    "combined2.plot(x=\"grid_width\", y=[\"gpu_path_exists_4\", \"gpu_path_exists_8\", \"gpu_path_exists\"], kind=\"bar\")\n",
    "\n",
    "plt.title('Success Rate')\n",
    "plt.xlabel('Grid size')\n",
    "plt.ylabel('Paths found (%)')\n",
    "plt.legend(['4 blocks', '8 blocks', '16 blocks'])\n",
    "plt.show()"
   ]
  },
  {
   "cell_type": "code",
   "execution_count": 187,
   "metadata": {},
   "outputs": [
    {
     "data": {
      "text/html": [
       "<div>\n",
       "<style scoped>\n",
       "    .dataframe tbody tr th:only-of-type {\n",
       "        vertical-align: middle;\n",
       "    }\n",
       "\n",
       "    .dataframe tbody tr th {\n",
       "        vertical-align: top;\n",
       "    }\n",
       "\n",
       "    .dataframe thead th {\n",
       "        text-align: right;\n",
       "    }\n",
       "</style>\n",
       "<table border=\"1\" class=\"dataframe\">\n",
       "  <thead>\n",
       "    <tr style=\"text-align: right;\">\n",
       "      <th></th>\n",
       "      <th>grid_width</th>\n",
       "      <th>cpu_path_length</th>\n",
       "      <th>gpu_path_length</th>\n",
       "    </tr>\n",
       "  </thead>\n",
       "  <tbody>\n",
       "    <tr>\n",
       "      <th>0</th>\n",
       "      <td>16</td>\n",
       "      <td>13.0</td>\n",
       "      <td>13.0</td>\n",
       "    </tr>\n",
       "    <tr>\n",
       "      <th>1</th>\n",
       "      <td>32</td>\n",
       "      <td>24.0</td>\n",
       "      <td>24.0</td>\n",
       "    </tr>\n",
       "    <tr>\n",
       "      <th>2</th>\n",
       "      <td>64</td>\n",
       "      <td>47.0</td>\n",
       "      <td>44.0</td>\n",
       "    </tr>\n",
       "    <tr>\n",
       "      <th>3</th>\n",
       "      <td>128</td>\n",
       "      <td>95.0</td>\n",
       "      <td>81.0</td>\n",
       "    </tr>\n",
       "    <tr>\n",
       "      <th>4</th>\n",
       "      <td>256</td>\n",
       "      <td>187.0</td>\n",
       "      <td>142.0</td>\n",
       "    </tr>\n",
       "    <tr>\n",
       "      <th>5</th>\n",
       "      <td>512</td>\n",
       "      <td>377.0</td>\n",
       "      <td>296.0</td>\n",
       "    </tr>\n",
       "    <tr>\n",
       "      <th>6</th>\n",
       "      <td>1024</td>\n",
       "      <td>767.0</td>\n",
       "      <td>537.0</td>\n",
       "    </tr>\n",
       "  </tbody>\n",
       "</table>\n",
       "</div>"
      ],
      "text/plain": [
       "   grid_width  cpu_path_length  gpu_path_length\n",
       "0          16             13.0             13.0\n",
       "1          32             24.0             24.0\n",
       "2          64             47.0             44.0\n",
       "3         128             95.0             81.0\n",
       "4         256            187.0            142.0\n",
       "5         512            377.0            296.0\n",
       "6        1024            767.0            537.0"
      ]
     },
     "execution_count": 187,
     "metadata": {},
     "output_type": "execute_result"
    }
   ],
   "source": [
    "# Get path length averages for cpu and gpu\n",
    "\n",
    "length4 = blocks4.groupby('grid_width', as_index=False)[['cpu_path_length', 'gpu_path_length']].mean().round(0)\n",
    "# success8 = blocks8.groupby('grid_width', as_index=False)[['gpu_path_exists']].sum()\n",
    "# success16 = blocks16.groupby('grid_width', as_index=False)[['gpu_path_exists']].sum()\n",
    "length4"
   ]
  }
 ],
 "metadata": {
  "kernelspec": {
   "display_name": "Python 3",
   "language": "python",
   "name": "python3"
  },
  "language_info": {
   "codemirror_mode": {
    "name": "ipython",
    "version": 3
   },
   "file_extension": ".py",
   "mimetype": "text/x-python",
   "name": "python",
   "nbconvert_exporter": "python",
   "pygments_lexer": "ipython3",
   "version": "3.6.5"
  }
 },
 "nbformat": 4,
 "nbformat_minor": 4
}
